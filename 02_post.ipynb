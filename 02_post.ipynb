{
 "cells": [
  {
   "cell_type": "code",
   "execution_count": 1,
   "metadata": {},
   "outputs": [],
   "source": [
    "import requests\n",
    "\n",
    "headers = {\n",
    "    \"User-Agent\": \"Mozilla/5.0 (Macintosh; Intel Mac OS X 10_15_7) AppleWebKit/537.36 (KHTML, like Gecko) Chrome/125.0.0.0 Safari/537.36\"\n",
    "}\n",
    "\n",
    "url = \"https://5468-118-163-131-11.ngrok-free.app/hello_post\""
   ]
  },
  {
   "cell_type": "code",
   "execution_count": 2,
   "metadata": {},
   "outputs": [],
   "source": [
    "data = {\n",
    "    \"username\": \"AAAABBBBB\"\n",
    "}\n",
    "\n",
    "res = requests.post(url=url, headers=headers, data=data)"
   ]
  },
  {
   "cell_type": "code",
   "execution_count": 4,
   "metadata": {},
   "outputs": [
    {
     "name": "stdout",
     "output_type": "stream",
     "text": [
      "\n",
      "    <!doctype html>\n",
      "    <title>Hello, World!</title>\n",
      "    <h1>Hello, your name is ?</h1>\n",
      "    <p></p>\n",
      "    <form action=\"/hello_post\" method=\"post\">\n",
      "    <label>Name:</label>\n",
      "    <input type=\"textbox\" name=\"username\">\n",
      "    <input type=\"submit\" value=\"Submit\">\n",
      "    </form>\n",
      "    \n",
      "    <h1>Hello AAAABBBBB !!</h1>\n",
      "    \n"
     ]
    }
   ],
   "source": [
    "print(res.text)"
   ]
  },
  {
   "cell_type": "code",
   "execution_count": null,
   "metadata": {},
   "outputs": [],
   "source": []
  }
 ],
 "metadata": {
  "kernelspec": {
   "display_name": "nccu_crawler-Kqb6hgOa",
   "language": "python",
   "name": "python3"
  },
  "language_info": {
   "codemirror_mode": {
    "name": "ipython",
    "version": 3
   },
   "file_extension": ".py",
   "mimetype": "text/x-python",
   "name": "python",
   "nbconvert_exporter": "python",
   "pygments_lexer": "ipython3",
   "version": "3.11.2"
  }
 },
 "nbformat": 4,
 "nbformat_minor": 2
}
